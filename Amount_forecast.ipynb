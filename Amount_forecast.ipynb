{
 "cells": [
  {
   "cell_type": "markdown",
   "metadata": {},
   "source": [
    "**IMPORTING THE LIBRARIES AND THE DATAFILE**"
   ]
  },
  {
   "cell_type": "code",
   "execution_count": 1510,
   "metadata": {},
   "outputs": [],
   "source": [
    "#Importing the prerequisite libraries that are to be used further.\n",
    "import pandas as pd\n",
    "import warnings\n",
    "import itertools\n",
    "import numpy as np\n",
    "import matplotlib.pyplot as plt\n",
    "warnings.filterwarnings(\"ignore\")\n",
    "plt.style.use('fivethirtyeight')\n",
    "import statsmodels.api as sm\n",
    "import matplotlib.pyplot as plt"
   ]
  },
  {
   "cell_type": "code",
   "execution_count": 1511,
   "metadata": {},
   "outputs": [],
   "source": [
    "dump=pd.read_csv(\"dump.csv\")"
   ]
  },
  {
   "cell_type": "markdown",
   "metadata": {},
   "source": [
    "*Going through the sample of data*"
   ]
  },
  {
   "cell_type": "code",
   "execution_count": 1512,
   "metadata": {
    "scrolled": false
   },
   "outputs": [
    {
     "data": {
      "text/html": [
       "<div>\n",
       "<style scoped>\n",
       "    .dataframe tbody tr th:only-of-type {\n",
       "        vertical-align: middle;\n",
       "    }\n",
       "\n",
       "    .dataframe tbody tr th {\n",
       "        vertical-align: top;\n",
       "    }\n",
       "\n",
       "    .dataframe thead th {\n",
       "        text-align: right;\n",
       "    }\n",
       "</style>\n",
       "<table border=\"1\" class=\"dataframe\">\n",
       "  <thead>\n",
       "    <tr style=\"text-align: right;\">\n",
       "      <th></th>\n",
       "      <th>Unnamed: 0</th>\n",
       "      <th>Id</th>\n",
       "      <th>TransactionDate</th>\n",
       "      <th>DueDate</th>\n",
       "      <th>DateFullyPaid</th>\n",
       "      <th>SellerId</th>\n",
       "      <th>BuyerId</th>\n",
       "      <th>Amount</th>\n",
       "      <th>Balance</th>\n",
       "      <th>Deposit</th>\n",
       "      <th>...</th>\n",
       "      <th>SalesTerm</th>\n",
       "      <th>Estimate</th>\n",
       "      <th>sel_id</th>\n",
       "      <th>sel_orgtype</th>\n",
       "      <th>sel_Business_type</th>\n",
       "      <th>sel_fiscal_year_start_month</th>\n",
       "      <th>buy_id</th>\n",
       "      <th>buy_first_engaged</th>\n",
       "      <th>buy_most_recent_engaged</th>\n",
       "      <th>buy_prev_engaged</th>\n",
       "    </tr>\n",
       "  </thead>\n",
       "  <tbody>\n",
       "    <tr>\n",
       "      <th>0</th>\n",
       "      <td>0</td>\n",
       "      <td>90802</td>\n",
       "      <td>2017-06-30T00:00:00.000Z</td>\n",
       "      <td>2017-06-30T00:00:00.000Z</td>\n",
       "      <td>NaN</td>\n",
       "      <td>13</td>\n",
       "      <td>16140</td>\n",
       "      <td>74970.0</td>\n",
       "      <td>0.0</td>\n",
       "      <td>0.0</td>\n",
       "      <td>...</td>\n",
       "      <td>NaN</td>\n",
       "      <td>NaN</td>\n",
       "      <td>13</td>\n",
       "      <td>SCorporation</td>\n",
       "      <td>NaN</td>\n",
       "      <td>January</td>\n",
       "      <td>16140</td>\n",
       "      <td>2015-12-31T00:00:00.000Z</td>\n",
       "      <td>2017-11-30T00:00:00.000Z</td>\n",
       "      <td>2017-10-31T00:00:00.000Z</td>\n",
       "    </tr>\n",
       "    <tr>\n",
       "      <th>1</th>\n",
       "      <td>1</td>\n",
       "      <td>90803</td>\n",
       "      <td>2017-06-30T00:00:00.000Z</td>\n",
       "      <td>2017-06-30T00:00:00.000Z</td>\n",
       "      <td>NaN</td>\n",
       "      <td>13</td>\n",
       "      <td>16140</td>\n",
       "      <td>109841.0</td>\n",
       "      <td>0.0</td>\n",
       "      <td>0.0</td>\n",
       "      <td>...</td>\n",
       "      <td>NaN</td>\n",
       "      <td>NaN</td>\n",
       "      <td>13</td>\n",
       "      <td>SCorporation</td>\n",
       "      <td>NaN</td>\n",
       "      <td>January</td>\n",
       "      <td>16140</td>\n",
       "      <td>2015-12-31T00:00:00.000Z</td>\n",
       "      <td>2017-11-30T00:00:00.000Z</td>\n",
       "      <td>2017-10-31T00:00:00.000Z</td>\n",
       "    </tr>\n",
       "    <tr>\n",
       "      <th>2</th>\n",
       "      <td>2</td>\n",
       "      <td>90804</td>\n",
       "      <td>2017-06-30T00:00:00.000Z</td>\n",
       "      <td>2017-06-30T00:00:00.000Z</td>\n",
       "      <td>NaN</td>\n",
       "      <td>13</td>\n",
       "      <td>16140</td>\n",
       "      <td>51128.0</td>\n",
       "      <td>0.0</td>\n",
       "      <td>0.0</td>\n",
       "      <td>...</td>\n",
       "      <td>NaN</td>\n",
       "      <td>NaN</td>\n",
       "      <td>13</td>\n",
       "      <td>SCorporation</td>\n",
       "      <td>NaN</td>\n",
       "      <td>January</td>\n",
       "      <td>16140</td>\n",
       "      <td>2015-12-31T00:00:00.000Z</td>\n",
       "      <td>2017-11-30T00:00:00.000Z</td>\n",
       "      <td>2017-10-31T00:00:00.000Z</td>\n",
       "    </tr>\n",
       "  </tbody>\n",
       "</table>\n",
       "<p>3 rows × 21 columns</p>\n",
       "</div>"
      ],
      "text/plain": [
       "   Unnamed: 0     Id           TransactionDate                   DueDate  \\\n",
       "0           0  90802  2017-06-30T00:00:00.000Z  2017-06-30T00:00:00.000Z   \n",
       "1           1  90803  2017-06-30T00:00:00.000Z  2017-06-30T00:00:00.000Z   \n",
       "2           2  90804  2017-06-30T00:00:00.000Z  2017-06-30T00:00:00.000Z   \n",
       "\n",
       "  DateFullyPaid  SellerId  BuyerId    Amount  Balance  Deposit  ...  \\\n",
       "0           NaN        13    16140   74970.0      0.0      0.0  ...   \n",
       "1           NaN        13    16140  109841.0      0.0      0.0  ...   \n",
       "2           NaN        13    16140   51128.0      0.0      0.0  ...   \n",
       "\n",
       "   SalesTerm  Estimate sel_id   sel_orgtype sel_Business_type  \\\n",
       "0        NaN       NaN     13  SCorporation               NaN   \n",
       "1        NaN       NaN     13  SCorporation               NaN   \n",
       "2        NaN       NaN     13  SCorporation               NaN   \n",
       "\n",
       "  sel_fiscal_year_start_month buy_id         buy_first_engaged  \\\n",
       "0                     January  16140  2015-12-31T00:00:00.000Z   \n",
       "1                     January  16140  2015-12-31T00:00:00.000Z   \n",
       "2                     January  16140  2015-12-31T00:00:00.000Z   \n",
       "\n",
       "    buy_most_recent_engaged          buy_prev_engaged  \n",
       "0  2017-11-30T00:00:00.000Z  2017-10-31T00:00:00.000Z  \n",
       "1  2017-11-30T00:00:00.000Z  2017-10-31T00:00:00.000Z  \n",
       "2  2017-11-30T00:00:00.000Z  2017-10-31T00:00:00.000Z  \n",
       "\n",
       "[3 rows x 21 columns]"
      ]
     },
     "execution_count": 1512,
     "metadata": {},
     "output_type": "execute_result"
    }
   ],
   "source": [
    "dump.head(3)"
   ]
  },
  {
   "cell_type": "markdown",
   "metadata": {},
   "source": [
    "*As per the requirement we need to extract three columns from this data, namely TransactionDate, SellerId and Amount. In this codefile we have only considered the SellerId 13.*"
   ]
  },
  {
   "cell_type": "markdown",
   "metadata": {},
   "source": [
    "**Following is the data set consisting of the TransactionDate and Amount of transaction only for seller 13.**"
   ]
  },
  {
   "cell_type": "code",
   "execution_count": 1513,
   "metadata": {},
   "outputs": [],
   "source": [
    "sel=dump[dump.SellerId==13][[\"TransactionDate\",\"Amount\"]]"
   ]
  },
  {
   "cell_type": "markdown",
   "metadata": {},
   "source": [
    "**Now we need the standard format of time and need to remove the timezone from it. For this I split the string of time and extracted only the year, month and day data from the whole.**"
   ]
  },
  {
   "cell_type": "code",
   "execution_count": 1514,
   "metadata": {},
   "outputs": [],
   "source": [
    "sel[\"TransactionDate\"]=sel.TransactionDate.apply(lambda x: x.split(\"T\")[0])"
   ]
  },
  {
   "cell_type": "markdown",
   "metadata": {},
   "source": [
    "**Following is the sample of data after formating the time which is still a string**"
   ]
  },
  {
   "cell_type": "code",
   "execution_count": 1515,
   "metadata": {},
   "outputs": [
    {
     "data": {
      "text/html": [
       "<div>\n",
       "<style scoped>\n",
       "    .dataframe tbody tr th:only-of-type {\n",
       "        vertical-align: middle;\n",
       "    }\n",
       "\n",
       "    .dataframe tbody tr th {\n",
       "        vertical-align: top;\n",
       "    }\n",
       "\n",
       "    .dataframe thead th {\n",
       "        text-align: right;\n",
       "    }\n",
       "</style>\n",
       "<table border=\"1\" class=\"dataframe\">\n",
       "  <thead>\n",
       "    <tr style=\"text-align: right;\">\n",
       "      <th></th>\n",
       "      <th>TransactionDate</th>\n",
       "      <th>Amount</th>\n",
       "    </tr>\n",
       "  </thead>\n",
       "  <tbody>\n",
       "    <tr>\n",
       "      <th>0</th>\n",
       "      <td>2017-06-30</td>\n",
       "      <td>74970.0</td>\n",
       "    </tr>\n",
       "    <tr>\n",
       "      <th>1</th>\n",
       "      <td>2017-06-30</td>\n",
       "      <td>109841.0</td>\n",
       "    </tr>\n",
       "    <tr>\n",
       "      <th>2</th>\n",
       "      <td>2017-06-30</td>\n",
       "      <td>51128.0</td>\n",
       "    </tr>\n",
       "    <tr>\n",
       "      <th>3</th>\n",
       "      <td>2017-06-30</td>\n",
       "      <td>74630.0</td>\n",
       "    </tr>\n",
       "    <tr>\n",
       "      <th>4</th>\n",
       "      <td>2017-06-30</td>\n",
       "      <td>299030.0</td>\n",
       "    </tr>\n",
       "  </tbody>\n",
       "</table>\n",
       "</div>"
      ],
      "text/plain": [
       "  TransactionDate    Amount\n",
       "0      2017-06-30   74970.0\n",
       "1      2017-06-30  109841.0\n",
       "2      2017-06-30   51128.0\n",
       "3      2017-06-30   74630.0\n",
       "4      2017-06-30  299030.0"
      ]
     },
     "execution_count": 1515,
     "metadata": {},
     "output_type": "execute_result"
    }
   ],
   "source": [
    "sel.head()"
   ]
  },
  {
   "cell_type": "markdown",
   "metadata": {},
   "source": [
    "**Now the dataset is converted into standard format that python operates in for further processes**."
   ]
  },
  {
   "cell_type": "code",
   "execution_count": 1516,
   "metadata": {},
   "outputs": [],
   "source": [
    "sel[\"TransactionDate\"]=pd.to_datetime(sel.TransactionDate)"
   ]
  },
  {
   "cell_type": "markdown",
   "metadata": {},
   "source": [
    "**Now let us set the TransactionDate to be the index of the whole data. It is needed to make a time series. In a timeseries the index has to be a time data.**"
   ]
  },
  {
   "cell_type": "code",
   "execution_count": 1517,
   "metadata": {},
   "outputs": [],
   "source": [
    "sel=sel.set_index(\"TransactionDate\")"
   ]
  },
  {
   "cell_type": "markdown",
   "metadata": {},
   "source": [
    "**Now as per the need we have to forecast the amount for next six months. This needs grouping of data by month. After that I aggregated to have a single amount per month.**"
   ]
  },
  {
   "cell_type": "code",
   "execution_count": 1518,
   "metadata": {},
   "outputs": [],
   "source": [
    "sel = sel.groupby(pd.Grouper(freq=\"M\")).sum()"
   ]
  },
  {
   "cell_type": "markdown",
   "metadata": {},
   "source": [
    "**Here the data is well formated**"
   ]
  },
  {
   "cell_type": "code",
   "execution_count": 1519,
   "metadata": {},
   "outputs": [
    {
     "data": {
      "text/html": [
       "<div>\n",
       "<style scoped>\n",
       "    .dataframe tbody tr th:only-of-type {\n",
       "        vertical-align: middle;\n",
       "    }\n",
       "\n",
       "    .dataframe tbody tr th {\n",
       "        vertical-align: top;\n",
       "    }\n",
       "\n",
       "    .dataframe thead th {\n",
       "        text-align: right;\n",
       "    }\n",
       "</style>\n",
       "<table border=\"1\" class=\"dataframe\">\n",
       "  <thead>\n",
       "    <tr style=\"text-align: right;\">\n",
       "      <th></th>\n",
       "      <th>Amount</th>\n",
       "    </tr>\n",
       "    <tr>\n",
       "      <th>TransactionDate</th>\n",
       "      <th></th>\n",
       "    </tr>\n",
       "  </thead>\n",
       "  <tbody>\n",
       "    <tr>\n",
       "      <th>2015-12-31</th>\n",
       "      <td>554937.0</td>\n",
       "    </tr>\n",
       "    <tr>\n",
       "      <th>2016-01-31</th>\n",
       "      <td>572900.0</td>\n",
       "    </tr>\n",
       "    <tr>\n",
       "      <th>2016-02-29</th>\n",
       "      <td>547166.0</td>\n",
       "    </tr>\n",
       "    <tr>\n",
       "      <th>2016-03-31</th>\n",
       "      <td>992872.0</td>\n",
       "    </tr>\n",
       "    <tr>\n",
       "      <th>2016-04-30</th>\n",
       "      <td>822866.0</td>\n",
       "    </tr>\n",
       "  </tbody>\n",
       "</table>\n",
       "</div>"
      ],
      "text/plain": [
       "                   Amount\n",
       "TransactionDate          \n",
       "2015-12-31       554937.0\n",
       "2016-01-31       572900.0\n",
       "2016-02-29       547166.0\n",
       "2016-03-31       992872.0\n",
       "2016-04-30       822866.0"
      ]
     },
     "execution_count": 1519,
     "metadata": {},
     "output_type": "execute_result"
    }
   ],
   "source": [
    "sel.head()"
   ]
  },
  {
   "cell_type": "markdown",
   "metadata": {},
   "source": [
    "**Below is the conversion of data into a time series.**"
   ]
  },
  {
   "cell_type": "code",
   "execution_count": 1520,
   "metadata": {},
   "outputs": [],
   "source": [
    "# ts stands for time series.\n",
    "ts=sel[\"Amount\"]"
   ]
  },
  {
   "cell_type": "markdown",
   "metadata": {},
   "source": [
    "<font color=\"blue\"> **TESTING FOR TREND AND SEASONALITY IN THE SERIES.**</font>"
   ]
  },
  {
   "cell_type": "markdown",
   "metadata": {},
   "source": [
    "> *Trend is the direction of propogation of the whole series. It might be upward, downward or may be constant. Seasonality is the period of repetition of the time series.*"
   ]
  },
  {
   "cell_type": "markdown",
   "metadata": {},
   "source": [
    "<font color=\"red\">**A) BY VISUALIZATION**</font>"
   ]
  },
  {
   "cell_type": "markdown",
   "metadata": {},
   "source": [
    "*By visual inspection we can see whether a data is going through trend or seasonality or not.*"
   ]
  },
  {
   "cell_type": "code",
   "execution_count": 1521,
   "metadata": {},
   "outputs": [
    {
     "data": {
      "image/png": "[encoded data removed]",
      "text/plain": [
       "<Figure size 720x288 with 1 Axes>"
      ]
     },
     "metadata": {},
     "output_type": "display_data"
    }
   ],
   "source": [
    "plt.figure(figsize=(10,4))\n",
    "plt.plot(ts, color=\"red\")\n",
    "plt.grid(True)\n",
    "plt.show()"
   ]
  },
  {
   "cell_type": "markdown",
   "metadata": {},
   "source": [
    "*From the above plot it can be inferred clearly that our data is suffering of trend and seasonality both.*"
   ]
  },
  {
   "cell_type": "markdown",
   "metadata": {},
   "source": [
    "<font color=\"red\"> **B)STATISTICAL METHOD**"
   ]
  },
  {
   "cell_type": "markdown",
   "metadata": {},
   "source": [
    "*Here we will see the presence of trend and  seasonality by statistical methods. In visual methods we can have only the inspection of presence of trend and seasonality but in stats we measure it in terms of stastical entities.*"
   ]
  },
  {
   "cell_type": "markdown",
   "metadata": {},
   "source": [
    "**DICKEY FULLER TEST**"
   ]
  },
  {
   "cell_type": "markdown",
   "metadata": {},
   "source": [
    "> *This test is used to test a hypothesis of whether the timeseries is stationry or not. It gives some statistical measures and some critical values with which our test stats has to be compared.*"
   ]
  },
  {
   "cell_type": "code",
   "execution_count": 1522,
   "metadata": {},
   "outputs": [],
   "source": [
    "#Here the library containing the dickey fuller test is imported\n",
    "from statsmodels.tsa.stattools import adfuller"
   ]
  },
  {
   "cell_type": "code",
   "execution_count": 1523,
   "metadata": {},
   "outputs": [],
   "source": [
    "def dft(ts):\n",
    "    print ('Results of Dickey-Fuller Test:')\n",
    "    dftest = adfuller(ts, autolag='AIC')\n",
    "    dfoutput = pd.Series(dftest[0:4], index=['Test Statistic','p-value','#Lags Used','Number of Observations Used'])\n",
    "    for key,value in dftest[4].items():\n",
    "        dfoutput['Critical Value (%s)'%key] = value\n",
    "    print (dfoutput)"
   ]
  },
  {
   "cell_type": "code",
   "execution_count": 1524,
   "metadata": {},
   "outputs": [
    {
     "name": "stdout",
     "output_type": "stream",
     "text": [
      "Results of Dickey-Fuller Test:\n",
      "Test Statistic                  3.822964\n",
      "p-value                         1.000000\n",
      "#Lags Used                      9.000000\n",
      "Number of Observations Used    33.000000\n",
      "Critical Value (1%)            -3.646135\n",
      "Critical Value (5%)            -2.954127\n",
      "Critical Value (10%)           -2.615968\n",
      "dtype: float64\n"
     ]
    }
   ],
   "source": [
    "dft(ts)"
   ]
  },
  {
   "cell_type": "markdown",
   "metadata": {},
   "source": [
    "**Interpretation of the dickey fuller test**  \n",
    "*If the Test Statistic is lesser than(considering values with sign) the critical values then we can conclude that the series has no trend and seasonality. For example here the Test Statistics is greater than all the critical values then it means that the series is not stationary.*"
   ]
  },
  {
   "cell_type": "markdown",
   "metadata": {},
   "source": [
    "**REMOVING TREND AND SEASONALITY FROM THE SERIES(MAKING IT STATIONARY)**"
   ]
  },
  {
   "cell_type": "markdown",
   "metadata": {},
   "source": [
    "*To make the series stationary first a logarithmic transformation has been applied. This reduces the trend a little.*"
   ]
  },
  {
   "cell_type": "code",
   "execution_count": 1525,
   "metadata": {},
   "outputs": [],
   "source": [
    "ts_log=np.log(ts[ts>0])"
   ]
  },
  {
   "cell_type": "code",
   "execution_count": 1526,
   "metadata": {},
   "outputs": [
    {
     "name": "stdout",
     "output_type": "stream",
     "text": [
      "Results of Dickey-Fuller Test:\n",
      "Test Statistic                  0.138792\n",
      "p-value                         0.968612\n",
      "#Lags Used                      8.000000\n",
      "Number of Observations Used    34.000000\n",
      "Critical Value (1%)            -3.639224\n",
      "Critical Value (5%)            -2.951230\n",
      "Critical Value (10%)           -2.614447\n",
      "dtype: float64\n"
     ]
    }
   ],
   "source": [
    "#Calling the Dickey fuller test to test for the transformed data.\n",
    "dft(ts_log)"
   ]
  },
  {
   "cell_type": "markdown",
   "metadata": {},
   "source": [
    "**It is intrepretable that the Test Statistic has dicreased a bit but still greater than the critical values. Hence it is non stationary yet.**"
   ]
  },
  {
   "cell_type": "markdown",
   "metadata": {},
   "source": [
    "**DIFFERENCING**"
   ]
  },
  {
   "cell_type": "markdown",
   "metadata": {},
   "source": [
    "*Following is the differencing technique used to make the series stationary.*"
   ]
  },
  {
   "cell_type": "code",
   "execution_count": 1527,
   "metadata": {},
   "outputs": [],
   "source": [
    "ts_log_diff=ts_log-ts_log.shift()\n",
    "#The shift function moves the whole series by one unit. Then the difference has been taken to remove trends."
   ]
  },
  {
   "cell_type": "markdown",
   "metadata": {},
   "source": [
    "*In the following plot we can see that trend has been removed from the series.*"
   ]
  },
  {
   "cell_type": "code",
   "execution_count": 1528,
   "metadata": {},
   "outputs": [
    {
     "data": {
      "image/png": "[encoded data removed]",
      "text/plain": [
       "<Figure size 1080x288 with 1 Axes>"
      ]
     },
     "metadata": {},
     "output_type": "display_data"
    }
   ],
   "source": [
    "plt.figure(figsize=(15,4))\n",
    "plt.plot(ts_log_diff, color=\"red\")\n",
    "plt.grid(True, color=\"black\")\n",
    "plt.show()"
   ]
  },
  {
   "cell_type": "code",
   "execution_count": 1529,
   "metadata": {},
   "outputs": [],
   "source": [
    "ts_log_diff.dropna(inplace=True)\n",
    "# This comes because when difference was taken the value was shifed by\n",
    "# one unit and value corresponding to that index is no more. so it is \n",
    "# needed to drop that one na value."
   ]
  },
  {
   "cell_type": "markdown",
   "metadata": {},
   "source": [
    "**Now let us see the stationary test after application of differencing in the series**"
   ]
  },
  {
   "cell_type": "code",
   "execution_count": 1530,
   "metadata": {},
   "outputs": [
    {
     "name": "stdout",
     "output_type": "stream",
     "text": [
      "Results of Dickey-Fuller Test:\n",
      "Test Statistic                 -5.050791\n",
      "p-value                         0.000018\n",
      "#Lags Used                      2.000000\n",
      "Number of Observations Used    39.000000\n",
      "Critical Value (1%)            -3.610400\n",
      "Critical Value (5%)            -2.939109\n",
      "Critical Value (10%)           -2.608063\n",
      "dtype: float64\n"
     ]
    }
   ],
   "source": [
    "dft(ts_log_diff)"
   ]
  },
  {
   "cell_type": "markdown",
   "metadata": {},
   "source": [
    "**Test Statistic is less than 1 percent critical value. So with 99% confidence we can say that trend and seasonality are removed from this timeseries.**"
   ]
  },
  {
   "cell_type": "markdown",
   "metadata": {},
   "source": [
    "**MODEL PREPARATION**"
   ]
  },
  {
   "cell_type": "code",
   "execution_count": 1531,
   "metadata": {},
   "outputs": [],
   "source": [
    "from statsmodels.tsa.stattools import acf, pacf\n",
    "# Requisite libraries for computing auto correlation function and partial auto correlation function. "
   ]
  },
  {
   "cell_type": "code",
   "execution_count": 1532,
   "metadata": {},
   "outputs": [],
   "source": [
    "lag_acf = acf(ts_log_diff, nlags=5)\n",
    "lag_pacf = pacf(ts_log_diff, nlags=5, method='ols')\n",
    "#ols stands for ordinary least squared."
   ]
  },
  {
   "cell_type": "markdown",
   "metadata": {},
   "source": [
    "**PURPOSE OF ACF AND PACF PLOTTINGS**  \n",
    "*These are two kinds of plots that are used to compute the lag order of auto correlation data and partial auto correlation data. These orders are used as input to the arima model for model preparation.*"
   ]
  },
  {
   "cell_type": "code",
   "execution_count": 1533,
   "metadata": {},
   "outputs": [
    {
     "data": {
      "text/plain": [
       "Text(0.5, 1.0, 'Autocorrelation Function')"
      ]
     },
     "execution_count": 1533,
     "metadata": {},
     "output_type": "execute_result"
    },
    {
     "data": {
      "image/png": "[encoded data removed]",
      "text/plain": [
       "<Figure size 432x288 with 1 Axes>"
      ]
     },
     "metadata": {},
     "output_type": "display_data"
    }
   ],
   "source": [
    "#This is the plotting of acf.\n",
    "plt.subplot(121) \n",
    "plt.plot(lag_acf)\n",
    "plt.axhline(y=0,linestyle='--',color='gray')\n",
    "plt.axhline(y=-1.96/np.sqrt(len(ts_log_diff)),linestyle='--',color='gray')\n",
    "plt.axhline(y=1.96/np.sqrt(len(ts_log_diff)),linestyle='--',color='gray')\n",
    "plt.title('Autocorrelation Function')"
   ]
  },
  {
   "cell_type": "markdown",
   "metadata": {},
   "source": [
    "*The p value is the lag value at which the correlation plot is intersecting the upper confidence intervel. If we will drop that point to x axis it is around 1 if taken as integer. so p value is 1*"
   ]
  },
  {
   "cell_type": "markdown",
   "metadata": {},
   "source": [
    "*This is done to get the lag order of moving average. or it is called to be partial auto correlation function.*"
   ]
  },
  {
   "cell_type": "code",
   "execution_count": 1534,
   "metadata": {},
   "outputs": [
    {
     "data": {
      "image/png": "[encoded data removed]",
      "text/plain": [
       "<Figure size 432x288 with 1 Axes>"
      ]
     },
     "metadata": {},
     "output_type": "display_data"
    }
   ],
   "source": [
    "#Plot PACF:\n",
    "plt.subplot(122)\n",
    "plt.plot(lag_pacf)\n",
    "plt.axhline(y=0,linestyle='--',color='gray')\n",
    "plt.axhline(y=-1.96/np.sqrt(len(ts_log_diff)),linestyle='--',color='gray')\n",
    "plt.axhline(y=1.96/np.sqrt(len(ts_log_diff)),linestyle='--',color='gray')\n",
    "plt.title('Partial Autocorrelation Function')\n",
    "plt.tight_layout()"
   ]
  },
  {
   "cell_type": "markdown",
   "metadata": {},
   "source": [
    "*From the plot it can be interpreted that q value is also around 1. The way of interpretation is similar to the last one.*"
   ]
  },
  {
   "cell_type": "markdown",
   "metadata": {},
   "source": [
    "**RUNNING THE SARIMAX(THIS IS SEASONAL ARIMA) MODEL**"
   ]
  },
  {
   "cell_type": "code",
   "execution_count": 1535,
   "metadata": {},
   "outputs": [],
   "source": [
    "mod = sm.tsa.statespace.SARIMAX(ts_log_diff,\n",
    "                                order=(1, 1, 1),\n",
    "                                seasonal_order=(1, 1, 1,2),\n",
    "                                enforce_stationarity=False,\n",
    "                                enforce_invertibility=False)\n",
    "\n",
    "results = mod.fit()"
   ]
  },
  {
   "cell_type": "markdown",
   "metadata": {},
   "source": [
    "*The model is fit to the differenced data*"
   ]
  },
  {
   "cell_type": "markdown",
   "metadata": {},
   "source": [
    "*Following code is to forecast the amount for coming 6 months.*"
   ]
  },
  {
   "cell_type": "code",
   "execution_count": 1536,
   "metadata": {},
   "outputs": [],
   "source": [
    "pred_uc=results.get_forecast(steps=7)\n",
    "pred_ci = pred_uc.conf_int()"
   ]
  },
  {
   "cell_type": "markdown",
   "metadata": {},
   "source": [
    "*The output is consisting of lower amount and upper amount. These are kind of minimum and maximum forecast for a month. I have taken average of the two extremes to make the forecast more practical.*"
   ]
  },
  {
   "cell_type": "code",
   "execution_count": 1537,
   "metadata": {},
   "outputs": [
    {
     "data": {
      "text/html": [
       "<div>\n",
       "<style scoped>\n",
       "    .dataframe tbody tr th:only-of-type {\n",
       "        vertical-align: middle;\n",
       "    }\n",
       "\n",
       "    .dataframe tbody tr th {\n",
       "        vertical-align: top;\n",
       "    }\n",
       "\n",
       "    .dataframe thead th {\n",
       "        text-align: right;\n",
       "    }\n",
       "</style>\n",
       "<table border=\"1\" class=\"dataframe\">\n",
       "  <thead>\n",
       "    <tr style=\"text-align: right;\">\n",
       "      <th></th>\n",
       "      <th>lower Amount</th>\n",
       "      <th>upper Amount</th>\n",
       "    </tr>\n",
       "  </thead>\n",
       "  <tbody>\n",
       "    <tr>\n",
       "      <th>2019-07-31</th>\n",
       "      <td>-0.328738</td>\n",
       "      <td>0.320168</td>\n",
       "    </tr>\n",
       "    <tr>\n",
       "      <th>2019-08-31</th>\n",
       "      <td>-0.224565</td>\n",
       "      <td>0.424185</td>\n",
       "    </tr>\n",
       "    <tr>\n",
       "      <th>2019-09-30</th>\n",
       "      <td>-0.440677</td>\n",
       "      <td>0.214420</td>\n",
       "    </tr>\n",
       "    <tr>\n",
       "      <th>2019-10-31</th>\n",
       "      <td>-0.326506</td>\n",
       "      <td>0.328567</td>\n",
       "    </tr>\n",
       "    <tr>\n",
       "      <th>2019-11-30</th>\n",
       "      <td>-0.448405</td>\n",
       "      <td>0.294136</td>\n",
       "    </tr>\n",
       "    <tr>\n",
       "      <th>2019-12-31</th>\n",
       "      <td>-0.338659</td>\n",
       "      <td>0.403752</td>\n",
       "    </tr>\n",
       "    <tr>\n",
       "      <th>2020-01-31</th>\n",
       "      <td>-0.496319</td>\n",
       "      <td>0.285146</td>\n",
       "    </tr>\n",
       "  </tbody>\n",
       "</table>\n",
       "</div>"
      ],
      "text/plain": [
       "            lower Amount  upper Amount\n",
       "2019-07-31     -0.328738      0.320168\n",
       "2019-08-31     -0.224565      0.424185\n",
       "2019-09-30     -0.440677      0.214420\n",
       "2019-10-31     -0.326506      0.328567\n",
       "2019-11-30     -0.448405      0.294136\n",
       "2019-12-31     -0.338659      0.403752\n",
       "2020-01-31     -0.496319      0.285146"
      ]
     },
     "execution_count": 1537,
     "metadata": {},
     "output_type": "execute_result"
    }
   ],
   "source": [
    "pred_ci"
   ]
  },
  {
   "cell_type": "code",
   "execution_count": 1538,
   "metadata": {},
   "outputs": [],
   "source": [
    "pred_mean=(pred_ci.iloc[:,0]+pred_ci.iloc[:,1])/2"
   ]
  },
  {
   "cell_type": "markdown",
   "metadata": {},
   "source": [
    "**REVERSING ALL THE TRANSFORMATIONS IN THE SERIES**  \n",
    "This is needed to get the output into the original format of data."
   ]
  },
  {
   "cell_type": "code",
   "execution_count": 1539,
   "metadata": {},
   "outputs": [],
   "source": [
    "predictions_ARIMA_diff = pd.Series(pred_mean, copy=True)"
   ]
  },
  {
   "cell_type": "markdown",
   "metadata": {},
   "source": [
    "*Cumulative summation reverses the process of differencing*"
   ]
  },
  {
   "cell_type": "code",
   "execution_count": 1540,
   "metadata": {},
   "outputs": [],
   "source": [
    "predictions_ARIMA_diff_cumsum = predictions_ARIMA_diff.cumsum()"
   ]
  },
  {
   "cell_type": "code",
   "execution_count": 1541,
   "metadata": {},
   "outputs": [],
   "source": [
    "a=ts_log[-1]"
   ]
  },
  {
   "cell_type": "markdown",
   "metadata": {},
   "source": [
    "*After that we need to add that to the last reference value of the series. This is the base value. We can have the original value after adding it to the base value.*"
   ]
  },
  {
   "cell_type": "code",
   "execution_count": 1542,
   "metadata": {},
   "outputs": [],
   "source": [
    "b=a+predictions_ARIMA_diff_cumsum"
   ]
  },
  {
   "cell_type": "markdown",
   "metadata": {},
   "source": [
    "*As we have applied logrithmic transformation initially so we need to get exponent of the same so that we can have the data into original scale.*"
   ]
  },
  {
   "cell_type": "code",
   "execution_count": 1543,
   "metadata": {},
   "outputs": [],
   "source": [
    "predictions_ARIMA = np.exp(b)"
   ]
  },
  {
   "cell_type": "code",
   "execution_count": 1544,
   "metadata": {},
   "outputs": [
    {
     "data": {
      "text/plain": [
       "pandas.core.series.Series"
      ]
     },
     "execution_count": 1544,
     "metadata": {},
     "output_type": "execute_result"
    }
   ],
   "source": [
    "type(predictions_ARIMA)"
   ]
  },
  {
   "cell_type": "code",
   "execution_count": 1545,
   "metadata": {},
   "outputs": [
    {
     "data": {
      "text/plain": [
       "2019-07-31    1.280881e+07\n",
       "2019-08-31    1.415323e+07\n",
       "2019-09-30    1.263934e+07\n",
       "2019-10-31    1.265238e+07\n",
       "2019-11-30    1.171313e+07\n",
       "2019-12-31    1.210062e+07\n",
       "2020-01-31    1.088810e+07\n",
       "Freq: M, dtype: float64"
      ]
     },
     "execution_count": 1545,
     "metadata": {},
     "output_type": "execute_result"
    }
   ],
   "source": [
    "predictions_ARIMA"
   ]
  },
  {
   "cell_type": "code",
   "execution_count": 1546,
   "metadata": {},
   "outputs": [
    {
     "data": {
      "image/png": "[encoded data removed]",
      "text/plain": [
       "<Figure size 1080x432 with 1 Axes>"
      ]
     },
     "metadata": {},
     "output_type": "display_data"
    }
   ],
   "source": [
    "plt.figure(figsize=(15,6))\n",
    "plt.plot(ts, color=\"blue\")\n",
    "plt.plot(predictions_ARIMA,color=\"red\")\n",
    "plt.grid(True)\n",
    "plt.show()"
   ]
  },
  {
   "cell_type": "markdown",
   "metadata": {},
   "source": [
    "**This is the final output which is consisting of forecast of amount for seller 13 for coming 6 months.**"
   ]
  },
  {
   "cell_type": "code",
   "execution_count": 1553,
   "metadata": {},
   "outputs": [
    {
     "data": {
      "text/html": [
       "<div>\n",
       "<style scoped>\n",
       "    .dataframe tbody tr th:only-of-type {\n",
       "        vertical-align: middle;\n",
       "    }\n",
       "\n",
       "    .dataframe tbody tr th {\n",
       "        vertical-align: top;\n",
       "    }\n",
       "\n",
       "    .dataframe thead th {\n",
       "        text-align: right;\n",
       "    }\n",
       "</style>\n",
       "<table border=\"1\" class=\"dataframe\">\n",
       "  <thead>\n",
       "    <tr style=\"text-align: right;\">\n",
       "      <th></th>\n",
       "      <th>amount</th>\n",
       "    </tr>\n",
       "  </thead>\n",
       "  <tbody>\n",
       "    <tr>\n",
       "      <th>2019-07-31</th>\n",
       "      <td>12808807.1</td>\n",
       "    </tr>\n",
       "    <tr>\n",
       "      <th>2019-08-31</th>\n",
       "      <td>14153230.8</td>\n",
       "    </tr>\n",
       "    <tr>\n",
       "      <th>2019-09-30</th>\n",
       "      <td>12639343.3</td>\n",
       "    </tr>\n",
       "    <tr>\n",
       "      <th>2019-10-31</th>\n",
       "      <td>12652377.7</td>\n",
       "    </tr>\n",
       "    <tr>\n",
       "      <th>2019-11-30</th>\n",
       "      <td>11713128.4</td>\n",
       "    </tr>\n",
       "    <tr>\n",
       "      <th>2019-12-31</th>\n",
       "      <td>12100620.5</td>\n",
       "    </tr>\n",
       "    <tr>\n",
       "      <th>2020-01-31</th>\n",
       "      <td>10888098.5</td>\n",
       "    </tr>\n",
       "  </tbody>\n",
       "</table>\n",
       "</div>"
      ],
      "text/plain": [
       "                amount\n",
       "2019-07-31  12808807.1\n",
       "2019-08-31  14153230.8\n",
       "2019-09-30  12639343.3\n",
       "2019-10-31  12652377.7\n",
       "2019-11-30  11713128.4\n",
       "2019-12-31  12100620.5\n",
       "2020-01-31  10888098.5"
      ]
     },
     "execution_count": 1553,
     "metadata": {},
     "output_type": "execute_result"
    }
   ],
   "source": [
    "forecast=pd.DataFrame()\n",
    "forecast[\"amount\"]=predictions_ARIMA\n",
    "forecast[\"amount\"]=forecast.amount.apply(lambda x:format(x,\".1f\"))\n",
    "forecast"
   ]
  },
  {
   "cell_type": "code",
   "execution_count": null,
   "metadata": {},
   "outputs": [],
   "source": []
  }
 ],
 "metadata": {
  "kernelspec": {
   "display_name": "Python 3",
   "language": "python",
   "name": "python3"
  },
  "language_info": {
   "codemirror_mode": {
    "name": "ipython",
    "version": 3
   },
   "file_extension": ".py",
   "mimetype": "text/x-python",
   "name": "python",
   "nbconvert_exporter": "python",
   "pygments_lexer": "ipython3",
   "version": "3.7.3"
  }
 },
 "nbformat": 4,
 "nbformat_minor": 2
}
